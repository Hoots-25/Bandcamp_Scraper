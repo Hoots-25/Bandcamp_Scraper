{
 "cells": [
  {
   "cell_type": "code",
   "execution_count": 2,
   "metadata": {},
   "outputs": [],
   "source": [
    "import pandas as pd\n",
    "import numpy as np\n",
    "import datetime\n",
    "import os"
   ]
  },
  {
   "cell_type": "code",
   "execution_count": 3,
   "metadata": {},
   "outputs": [],
   "source": [
    "file = r\"C:\\Users\\domen\\Desktop\\Data Scraping\\v2\\CSVs\\cleanup9.csv\"\n",
    "df = pd.read_csv(file)\n",
    "df = df.apply(lambda x: x.astype(str).str.upper())"
   ]
  },
  {
   "cell_type": "code",
   "execution_count": 54,
   "metadata": {},
   "outputs": [
    {
     "data": {
      "text/html": [
       "<div>\n",
       "<style scoped>\n",
       "    .dataframe tbody tr th:only-of-type {\n",
       "        vertical-align: middle;\n",
       "    }\n",
       "\n",
       "    .dataframe tbody tr th {\n",
       "        vertical-align: top;\n",
       "    }\n",
       "\n",
       "    .dataframe thead th {\n",
       "        text-align: right;\n",
       "    }\n",
       "</style>\n",
       "<table border=\"1\" class=\"dataframe\">\n",
       "  <thead>\n",
       "    <tr style=\"text-align: right;\">\n",
       "      <th></th>\n",
       "      <th>Artist</th>\n",
       "      <th>Album</th>\n",
       "      <th>Location</th>\n",
       "      <th>Song</th>\n",
       "      <th>Length</th>\n",
       "      <th>Tags</th>\n",
       "      <th>Date</th>\n",
       "    </tr>\n",
       "  </thead>\n",
       "  <tbody>\n",
       "    <tr>\n",
       "      <th>count</th>\n",
       "      <td>570957</td>\n",
       "      <td>570957</td>\n",
       "      <td>570957</td>\n",
       "      <td>570957</td>\n",
       "      <td>570957</td>\n",
       "      <td>570957</td>\n",
       "      <td>570957</td>\n",
       "    </tr>\n",
       "    <tr>\n",
       "      <th>unique</th>\n",
       "      <td>54458</td>\n",
       "      <td>104245</td>\n",
       "      <td>6121</td>\n",
       "      <td>445192</td>\n",
       "      <td>4255</td>\n",
       "      <td>71548</td>\n",
       "      <td>5505</td>\n",
       "    </tr>\n",
       "    <tr>\n",
       "      <th>top</th>\n",
       "      <td>VARIOUS ARTISTS</td>\n",
       "      <td>DEMO</td>\n",
       "      <td>NAN</td>\n",
       "      <td>INTRO</td>\n",
       "      <td>NAN</td>\n",
       "      <td>['DEVOTIONAL', 'DRUM &amp; BASS', 'ELECTRONIC', 'I...</td>\n",
       "      <td>NAN</td>\n",
       "    </tr>\n",
       "    <tr>\n",
       "      <th>freq</th>\n",
       "      <td>4484</td>\n",
       "      <td>1224</td>\n",
       "      <td>22518</td>\n",
       "      <td>1277</td>\n",
       "      <td>262462</td>\n",
       "      <td>3424</td>\n",
       "      <td>32472</td>\n",
       "    </tr>\n",
       "  </tbody>\n",
       "</table>\n",
       "</div>"
      ],
      "text/plain": [
       "                 Artist         Album Location    Song  Length  \\\n",
       "count            570957        570957   570957  570957  570957   \n",
       "unique            54458        104245     6121  445192    4255   \n",
       "top     VARIOUS ARTISTS  DEMO              NAN   INTRO     NAN   \n",
       "freq               4484          1224    22518    1277  262462   \n",
       "\n",
       "                                                     Tags    Date  \n",
       "count                                              570957  570957  \n",
       "unique                                              71548    5505  \n",
       "top     ['DEVOTIONAL', 'DRUM & BASS', 'ELECTRONIC', 'I...     NAN  \n",
       "freq                                                 3424   32472  "
      ]
     },
     "execution_count": 54,
     "metadata": {},
     "output_type": "execute_result"
    }
   ],
   "source": [
    "description = df.describe()\n",
    "description"
   ]
  },
  {
   "cell_type": "code",
   "execution_count": 4,
   "metadata": {},
   "outputs": [
    {
     "data": {
      "text/plain": [
       "548439"
      ]
     },
     "execution_count": 4,
     "metadata": {},
     "output_type": "execute_result"
    }
   ],
   "source": [
    "df.Location.count()"
   ]
  },
  {
   "cell_type": "code",
   "execution_count": 42,
   "metadata": {},
   "outputs": [
    {
     "name": "stdout",
     "output_type": "stream",
     "text": [
      "AMBIENT\n",
      "AMBIENT :  False\n",
      "rock\n",
      "ROCK :  False\n",
      "rave\n",
      "RAVE :  False\n",
      "metal\n",
      "METAL :  False\n",
      "folk\n",
      "FOLK :  False\n",
      "indie\n",
      "INDIE :  False\n"
     ]
    }
   ],
   "source": [
    "import perfplot\n",
    "import string\n",
    "\n",
    "def sum_mask_song(df,guess):\n",
    "    return (df.Song.values.lower() == guess.upper()).sum()\n",
    "\n",
    "def sum_mask_tag(df,guess):\n",
    "    guess = guess.upper()\n",
    "    \n",
    "    #for i in range(0,len(df.Tags.values)):\n",
    "    for i in range(0,4):\n",
    "        \n",
    "        x = df.Tags.values[i].lstrip(('\\\"['))\n",
    "        x = x.rstrip(('\\]\"'))\n",
    "        x = x.replace(\"\\'\",\"\")\n",
    "        x = x.replace(\",\",\"\")\n",
    "        x = x.split()\n",
    "        #print(x[i])\n",
    "        #for j in range(0,len(x)):\n",
    "        for j in range(0,len(x)):\n",
    "            #print(x[j])\n",
    "            ans = (x[j] == guess)  \n",
    "    \n",
    "    return ans\n",
    "\n",
    "guesses = ['AMBIENT','rock','rave','metal','folk','indie']\n",
    "\n",
    "for guess in guesses:\n",
    "    print(guess)\n",
    "    ans = sum_mask_tag(df,guess)\n",
    "    print(guess.upper(),\": \",ans)\n"
   ]
  },
  {
   "cell_type": "code",
   "execution_count": 60,
   "metadata": {},
   "outputs": [
    {
     "name": "stdout",
     "output_type": "stream",
     "text": [
      "AMBIENT\n",
      "(True, False, False)\n",
      "EXPERIMENTAL\n",
      "(False, True, False)\n",
      "HEALING\n",
      "(False, False, True)\n",
      "INSTRUMENTAL\n",
      "(False, False, False)\n",
      "MANITOU\n",
      "(False, False, False)\n",
      "SPRINGS\n",
      "(False, False, False)\n"
     ]
    }
   ],
   "source": [
    "guess = ['AMBIENT', 'EXPERIMENTAL','HEALING']\n",
    "\n",
    "for i in range(0,1):\n",
    "    x = df.Tags.values[i].lstrip(('\\\"['))\n",
    "    x = x.rstrip(('\\]\"'))\n",
    "    x = x.replace(\"\\'\",\"\")\n",
    "    x = x.replace(\",\",\"\")\n",
    "    x = x.split()\n",
    "    for j in range(0,len(x)):\n",
    "        print(x[j])\n",
    "        #print(guess)\n",
    "        y = (x[j] == guess[0], x[j] == guess[1], x[j] == guess[2])        \n",
    "        print(y)\n",
    "        "
   ]
  },
  {
   "cell_type": "code",
   "execution_count": null,
   "metadata": {},
   "outputs": [],
   "source": []
  }
 ],
 "metadata": {
  "kernelspec": {
   "display_name": "Python 3",
   "language": "python",
   "name": "python3"
  },
  "language_info": {
   "codemirror_mode": {
    "name": "ipython",
    "version": 3
   },
   "file_extension": ".py",
   "mimetype": "text/x-python",
   "name": "python",
   "nbconvert_exporter": "python",
   "pygments_lexer": "ipython3",
   "version": "3.7.3"
  }
 },
 "nbformat": 4,
 "nbformat_minor": 2
}
